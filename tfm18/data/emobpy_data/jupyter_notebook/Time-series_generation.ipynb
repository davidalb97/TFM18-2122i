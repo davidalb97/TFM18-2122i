{
 "cells": [
  {
   "cell_type": "code",
   "execution_count": null,
   "id": "f746b88a",
   "metadata": {},
   "outputs": [],
   "source": [
    "# Initialize seed\n",
    "from emobpy.tools import set_seed\n",
    "set_seed()"
   ]
  },
  {
   "cell_type": "markdown",
   "id": "0f15eb6b",
   "metadata": {},
   "source": [
    "------------------------------------------------\n",
    "## Step 1: Vehicle mobility time series\n",
    "------------------------------------------------\n",
    "a) generation of a time series\n",
    "\n",
    "------------------------------------------------"
   ]
  },
  {
   "cell_type": "code",
   "execution_count": null,
   "id": "bd88ef41",
   "metadata": {
    "pycharm": {
     "is_executing": true
    }
   },
   "outputs": [],
   "source": [
    "from emobpy import Mobility"
   ]
  },
  {
   "cell_type": "code",
   "execution_count": null,
   "id": "20e3d675",
   "metadata": {
    "pycharm": {
     "is_executing": true
    }
   },
   "outputs": [],
   "source": [
    "m = Mobility(config_folder='config_files')"
   ]
  },
  {
   "cell_type": "code",
   "execution_count": null,
   "id": "5b25f22f",
   "metadata": {
    "pycharm": {
     "is_executing": true
    }
   },
   "outputs": [],
   "source": [
    "m.set_params(\n",
    "             name_prefix=\"BEV1\",\n",
    "             total_hours=168, # one week\n",
    "             time_step_in_hrs=0.25, # 15 minutes\n",
    "             category=\"user_defined\",\n",
    "             reference_date=\"01/01/2020\"\n",
    "            )"
   ]
  },
  {
   "cell_type": "code",
   "execution_count": null,
   "id": "bb5879ae",
   "metadata": {
    "pycharm": {
     "is_executing": true
    }
   },
   "outputs": [],
   "source": [
    "m.set_stats(\n",
    "            stat_ntrip_path=\"TripsPerDay.csv\",\n",
    "            stat_dest_path=\"DepartureDestinationTrip.csv\",\n",
    "            stat_km_duration_path=\"DistanceDurationTrip.csv\",\n",
    "            )"
   ]
  },
  {
   "cell_type": "code",
   "execution_count": null,
   "id": "b206f29a",
   "metadata": {
    "pycharm": {
     "is_executing": true
    }
   },
   "outputs": [],
   "source": [
    "m.set_rules(rule_key=\"user_defined\") # see /config_files/rules.yml, it contains a dictionary\n",
    "                                     # whose key must be the same as rule_key. \n",
    "                                     # To see all possible rules `from emobpy.constants import RULE; RULE` "
   ]
  },
  {
   "cell_type": "code",
   "execution_count": null,
   "id": "b401dafd",
   "metadata": {
    "pycharm": {
     "is_executing": true
    }
   },
   "outputs": [],
   "source": [
    "m.run()"
   ]
  },
  {
   "cell_type": "code",
   "execution_count": null,
   "id": "607d300d",
   "metadata": {
    "pycharm": {
     "is_executing": true
    }
   },
   "outputs": [],
   "source": [
    "m.save_profile(folder=\"db\", description='168 hrs 15 min step ref-date 01/01/2020')"
   ]
  },
  {
   "cell_type": "markdown",
   "id": "07251511",
   "metadata": {},
   "source": [
    "-------------------------\n",
    "b) See some attributes\n",
    "\n",
    "-------------------------"
   ]
  },
  {
   "cell_type": "code",
   "execution_count": null,
   "id": "ed89e76f",
   "metadata": {
    "pycharm": {
     "is_executing": true
    }
   },
   "outputs": [],
   "source": [
    "m.name"
   ]
  },
  {
   "cell_type": "code",
   "execution_count": null,
   "id": "016eb68c",
   "metadata": {
    "pycharm": {
     "is_executing": true
    }
   },
   "outputs": [],
   "source": [
    "m.kind"
   ]
  },
  {
   "cell_type": "code",
   "execution_count": null,
   "id": "b05f00c4",
   "metadata": {
    "pycharm": {
     "is_executing": true
    }
   },
   "outputs": [],
   "source": [
    "m.description"
   ]
  },
  {
   "cell_type": "code",
   "execution_count": null,
   "id": "e327b3d4",
   "metadata": {
    "pycharm": {
     "is_executing": true
    }
   },
   "outputs": [],
   "source": [
    "m.timeseries"
   ]
  },
  {
   "cell_type": "code",
   "execution_count": null,
   "id": "90e1dbd0",
   "metadata": {
    "pycharm": {
     "is_executing": true
    }
   },
   "outputs": [],
   "source": [
    "m.profile.head()"
   ]
  },
  {
   "cell_type": "markdown",
   "id": "d055cfd4",
   "metadata": {},
   "source": [
    "-------------------------------\n",
    "c) Profiles management\n",
    "\n",
    "-------------------------------"
   ]
  },
  {
   "cell_type": "code",
   "execution_count": null,
   "id": "3edb19da",
   "metadata": {
    "pycharm": {
     "is_executing": true
    }
   },
   "outputs": [],
   "source": [
    "from emobpy import DataBase"
   ]
  },
  {
   "cell_type": "code",
   "execution_count": null,
   "id": "ac997d62",
   "metadata": {
    "pycharm": {
     "is_executing": true
    }
   },
   "outputs": [],
   "source": [
    "DB = DataBase('db')"
   ]
  },
  {
   "cell_type": "code",
   "execution_count": null,
   "id": "ddae0431",
   "metadata": {
    "pycharm": {
     "is_executing": true
    }
   },
   "outputs": [],
   "source": [
    "DB.loadfiles()"
   ]
  },
  {
   "cell_type": "code",
   "execution_count": null,
   "id": "6293450b",
   "metadata": {
    "pycharm": {
     "is_executing": true
    }
   },
   "outputs": [],
   "source": [
    "DB.db.keys()"
   ]
  },
  {
   "cell_type": "code",
   "execution_count": null,
   "id": "2f93dea8",
   "metadata": {
    "pycharm": {
     "is_executing": true
    }
   },
   "outputs": [],
   "source": [
    "DB.db[m.name]['user_rules']"
   ]
  },
  {
   "cell_type": "code",
   "execution_count": null,
   "id": "e7db717d",
   "metadata": {
    "pycharm": {
     "is_executing": true
    }
   },
   "outputs": [],
   "source": [
    "DB.db[m.name]['kind']"
   ]
  },
  {
   "cell_type": "markdown",
   "id": "703ea714",
   "metadata": {},
   "source": [
    "-------------------------\n",
    "d) Visualization\n",
    "\n",
    "-------------------------"
   ]
  },
  {
   "cell_type": "code",
   "execution_count": null,
   "id": "8980303c",
   "metadata": {
    "pycharm": {
     "is_executing": true
    }
   },
   "outputs": [],
   "source": [
    "from emobpy.plot import NBplot"
   ]
  },
  {
   "cell_type": "code",
   "execution_count": null,
   "id": "1c4e97b4",
   "metadata": {
    "pycharm": {
     "is_executing": true
    }
   },
   "outputs": [],
   "source": [
    "PLT = NBplot(DB)"
   ]
  },
  {
   "cell_type": "code",
   "execution_count": null,
   "id": "1e5c52c8",
   "metadata": {
    "pycharm": {
     "is_executing": true
    }
   },
   "outputs": [],
   "source": [
    "fig_mobility = PLT.sgplot_dp(m.name)"
   ]
  },
  {
   "cell_type": "code",
   "execution_count": null,
   "id": "49e764ae",
   "metadata": {
    "pycharm": {
     "is_executing": true
    }
   },
   "outputs": [],
   "source": [
    "fig_mobility"
   ]
  },
  {
   "cell_type": "markdown",
   "id": "94100231",
   "metadata": {},
   "source": [
    "------------------------------------------------------\n",
    "## Step 2: Driving consumption time series\n",
    "------------------------------------------------------\n",
    "a) Vehicle model configuration\n",
    "\n",
    "------------------------------------------------------"
   ]
  },
  {
   "cell_type": "code",
   "execution_count": null,
   "id": "1a9db399",
   "metadata": {
    "pycharm": {
     "is_executing": true
    }
   },
   "outputs": [],
   "source": [
    "from emobpy import Consumption, HeatInsulation, BEVspecs"
   ]
  },
  {
   "cell_type": "code",
   "execution_count": null,
   "id": "dcc72b10",
   "metadata": {
    "pycharm": {
     "is_executing": true
    }
   },
   "outputs": [],
   "source": [
    "DB.update()                # This load new files hosted in database folder as result of new generated files"
   ]
  },
  {
   "cell_type": "code",
   "execution_count": null,
   "id": "5c4c80f1",
   "metadata": {
    "pycharm": {
     "is_executing": true
    }
   },
   "outputs": [],
   "source": [
    "# mname = list(DB.db.keys())[0]      # getting the id of the first mobility profile\n",
    "mname = m.name"
   ]
  },
  {
   "cell_type": "code",
   "execution_count": null,
   "id": "17ec9d31",
   "metadata": {
    "pycharm": {
     "is_executing": true
    }
   },
   "outputs": [],
   "source": [
    "HI = HeatInsulation(True)            # Creating the heat insulation by copying the default configuration"
   ]
  },
  {
   "cell_type": "code",
   "execution_count": null,
   "id": "0c799ff7",
   "metadata": {
    "pycharm": {
     "is_executing": true
    }
   },
   "outputs": [],
   "source": [
    "BEVS = BEVspecs()                    # Database that contains BEV models"
   ]
  },
  {
   "cell_type": "code",
   "execution_count": null,
   "id": "ec6ceb3f",
   "metadata": {
    "pycharm": {
     "is_executing": true
    },
    "scrolled": true
   },
   "outputs": [],
   "source": [
    "BEVS.show_models()"
   ]
  },
  {
   "cell_type": "code",
   "execution_count": null,
   "id": "05f6f892",
   "metadata": {
    "pycharm": {
     "is_executing": true
    }
   },
   "outputs": [],
   "source": [
    "BEVS.parameters"
   ]
  },
  {
   "cell_type": "code",
   "execution_count": null,
   "id": "a2b60c7f",
   "metadata": {
    "pycharm": {
     "is_executing": true
    }
   },
   "outputs": [],
   "source": [
    "dataframe = BEVS.search_by_parameter()"
   ]
  },
  {
   "cell_type": "code",
   "execution_count": null,
   "id": "9ac1f97c",
   "metadata": {
    "pycharm": {
     "is_executing": true
    }
   },
   "outputs": [],
   "source": [
    "VW_ID3 = BEVS.model(('Volkswagen','ID.3',2020))    # Model instance that contains vehicle parameters"
   ]
  },
  {
   "cell_type": "code",
   "execution_count": null,
   "id": "f7435b57",
   "metadata": {
    "pycharm": {
     "is_executing": true
    }
   },
   "outputs": [],
   "source": [
    "VW_ID3.parameters"
   ]
  },
  {
   "cell_type": "markdown",
   "id": "7c229d86",
   "metadata": {},
   "source": [
    "----------------------------------------------------------------------\n",
    "b) Calculate consumption for each trip and generate the time series\n",
    "\n",
    "----------------------------------------------------------------------"
   ]
  },
  {
   "cell_type": "code",
   "execution_count": null,
   "id": "53e40ed3",
   "metadata": {
    "pycharm": {
     "is_executing": true
    }
   },
   "outputs": [],
   "source": [
    "c = Consumption(mname, VW_ID3)"
   ]
  },
  {
   "cell_type": "code",
   "execution_count": null,
   "id": "45afb46e",
   "metadata": {
    "pycharm": {
     "is_executing": true
    }
   },
   "outputs": [],
   "source": [
    "c.load_setting_mobility(DB)"
   ]
  },
  {
   "cell_type": "code",
   "execution_count": null,
   "id": "635dae56",
   "metadata": {
    "pycharm": {
     "is_executing": true
    }
   },
   "outputs": [],
   "source": [
    "c.run(\n",
    "    heat_insulation=HI,\n",
    "    weather_country='DE',\n",
    "    weather_year=2016,\n",
    "    passenger_mass=75,                   # kg\n",
    "    passenger_sensible_heat=70,          # W\n",
    "    passenger_nr=1.5,                    # Passengers per vehicle including driver\n",
    "    air_cabin_heat_transfer_coef=20,     # W/(m2K). Interior walls\n",
    "    air_flow = 0.02,                     # m3/s. Ventilation\n",
    "    driving_cycle_type='WLTC',           # Two options \"WLTC\" or \"EPA\"\n",
    "    road_type=0,                         # For rolling resistance, Zero represents a new road.\n",
    "    road_slope=0\n",
    "    )"
   ]
  },
  {
   "cell_type": "code",
   "execution_count": null,
   "id": "595dd5e7",
   "metadata": {
    "pycharm": {
     "is_executing": true
    }
   },
   "outputs": [],
   "source": [
    "c.save_profile('db')"
   ]
  },
  {
   "cell_type": "markdown",
   "id": "be5c806f",
   "metadata": {},
   "source": [
    "------------------------------\n",
    "c) See some attributes\n",
    "\n",
    "------------------------------"
   ]
  },
  {
   "cell_type": "code",
   "execution_count": null,
   "id": "d0fad033",
   "metadata": {
    "pycharm": {
     "is_executing": true
    }
   },
   "outputs": [],
   "source": [
    "c.name"
   ]
  },
  {
   "cell_type": "code",
   "execution_count": null,
   "id": "0c6e3b81",
   "metadata": {
    "pycharm": {
     "is_executing": true
    }
   },
   "outputs": [],
   "source": [
    "c.kind"
   ]
  },
  {
   "cell_type": "code",
   "execution_count": null,
   "id": "9f02599b",
   "metadata": {
    "pycharm": {
     "is_executing": true
    }
   },
   "outputs": [],
   "source": [
    "c.input"
   ]
  },
  {
   "cell_type": "code",
   "execution_count": null,
   "id": "84093dd0",
   "metadata": {
    "pycharm": {
     "is_executing": true
    }
   },
   "outputs": [],
   "source": [
    "c.brand, c.model, c.year"
   ]
  },
  {
   "cell_type": "code",
   "execution_count": null,
   "id": "0b9eb2eb",
   "metadata": {
    "pycharm": {
     "is_executing": true
    }
   },
   "outputs": [],
   "source": [
    "c.timeseries"
   ]
  },
  {
   "cell_type": "code",
   "execution_count": null,
   "id": "89ee421c",
   "metadata": {
    "pycharm": {
     "is_executing": true
    },
    "scrolled": false
   },
   "outputs": [],
   "source": [
    "c.profile.head()"
   ]
  },
  {
   "cell_type": "markdown",
   "id": "b1c68cf0",
   "metadata": {},
   "source": [
    "-------------------------\n",
    "d) Visualization\n",
    "\n",
    "-------------------------"
   ]
  },
  {
   "cell_type": "code",
   "execution_count": null,
   "id": "918d2880",
   "metadata": {
    "pycharm": {
     "is_executing": true
    }
   },
   "outputs": [],
   "source": [
    "fig_consumption = PLT.sankey(c.name, include=None, to_html=False, path=None)"
   ]
  },
  {
   "cell_type": "code",
   "execution_count": null,
   "id": "4ba72eb9",
   "metadata": {
    "pycharm": {
     "is_executing": true
    }
   },
   "outputs": [],
   "source": [
    "fig_consumption"
   ]
  },
  {
   "cell_type": "markdown",
   "id": "fabd6738",
   "metadata": {},
   "source": [
    "-------------------------------------------------------------------\n",
    "## Step 3: Grid availability time series\n",
    "-------------------------------------------------------------------\n",
    "a) probability distribution and power rating for charging stations\n",
    "\n",
    "-------------------------------------------------------------------"
   ]
  },
  {
   "cell_type": "code",
   "execution_count": null,
   "id": "016bde3b",
   "metadata": {
    "pycharm": {
     "is_executing": true
    }
   },
   "outputs": [],
   "source": [
    "from emobpy import Availability"
   ]
  },
  {
   "cell_type": "code",
   "execution_count": null,
   "id": "cd8ff32f",
   "metadata": {
    "pycharm": {
     "is_executing": true
    }
   },
   "outputs": [],
   "source": [
    "DB.update()                               # This load new generated files that are hosted in database folder\n",
    "cname = c.name                            # getting the id of the first consumption profile\n",
    "\n",
    "\n",
    "station_distribution = {                  # Dictionary with charging stations type probability distribution per the purpose of the trip (location or destination)\n",
    "    'prob_charging_point': {\n",
    "        'errands': {'public': 0.5, 'none': 0.5},\n",
    "        'escort': {'public': 0.5, 'none': 0.5},\n",
    "        'leisure': {'public': 0.5, 'none': 0.5},\n",
    "        'shopping': {'public': 0.5, 'none': 0.5},\n",
    "        'home': {'public': 0.5, 'none': 0.5},\n",
    "        'workplace': {'public': 0.0, 'workplace': 1.0, 'none': 0.0},   # If the vehicle is at the workplace, it will always find a charging station available (assumption)\n",
    "        'driving': {'none': 0.99, 'fast75': 0.005, 'fast150': 0.005}}, # with the low probability given to fast charging is to ensure fast charging only for very long trips (assumption)\n",
    "    'capacity_charging_point': {                                       # Nominal power rating of charging station in kW\n",
    "        'public': 22,\n",
    "        'home': 3.7,\n",
    "        'workplace': 11,\n",
    "        'none': 0,  # dummy station\n",
    "        'fast75': 75,\n",
    "        'fast150': 150}\n",
    "}"
   ]
  },
  {
   "cell_type": "markdown",
   "id": "ba75c979",
   "metadata": {},
   "source": [
    "--------------------------------\n",
    "b) Generate time series\n",
    "\n",
    "--------------------------------"
   ]
  },
  {
   "cell_type": "code",
   "execution_count": null,
   "id": "36712618",
   "metadata": {
    "pycharm": {
     "is_executing": true
    }
   },
   "outputs": [],
   "source": [
    "ga = Availability(cname, DB)"
   ]
  },
  {
   "cell_type": "code",
   "execution_count": null,
   "id": "c22a24b0",
   "metadata": {
    "pycharm": {
     "is_executing": true
    }
   },
   "outputs": [],
   "source": [
    "ga.set_scenario(station_distribution)"
   ]
  },
  {
   "cell_type": "code",
   "execution_count": null,
   "id": "163284d1",
   "metadata": {
    "pycharm": {
     "is_executing": true
    }
   },
   "outputs": [],
   "source": [
    "ga.run()"
   ]
  },
  {
   "cell_type": "code",
   "execution_count": null,
   "id": "df1da6f5",
   "metadata": {
    "pycharm": {
     "is_executing": true
    }
   },
   "outputs": [],
   "source": [
    "ga.save_profile('db')"
   ]
  },
  {
   "cell_type": "markdown",
   "id": "0714c295",
   "metadata": {},
   "source": [
    "--------------------------------\n",
    "b) See some attributes\n",
    "\n",
    "--------------------------------"
   ]
  },
  {
   "cell_type": "code",
   "execution_count": null,
   "id": "65e3d22a",
   "metadata": {
    "pycharm": {
     "is_executing": true
    }
   },
   "outputs": [],
   "source": [
    "ga.name"
   ]
  },
  {
   "cell_type": "code",
   "execution_count": null,
   "id": "8c7a32eb",
   "metadata": {
    "pycharm": {
     "is_executing": true
    }
   },
   "outputs": [],
   "source": [
    "ga.input"
   ]
  },
  {
   "cell_type": "code",
   "execution_count": null,
   "id": "35b48346",
   "metadata": {
    "pycharm": {
     "is_executing": true
    }
   },
   "outputs": [],
   "source": [
    "ga.kind"
   ]
  },
  {
   "cell_type": "code",
   "execution_count": null,
   "id": "3e31dc25",
   "metadata": {
    "pycharm": {
     "is_executing": true
    }
   },
   "outputs": [],
   "source": [
    "ga.battery_capacity"
   ]
  },
  {
   "cell_type": "code",
   "execution_count": null,
   "id": "7f73cb30",
   "metadata": {
    "pycharm": {
     "is_executing": true
    }
   },
   "outputs": [],
   "source": [
    "ga.charging_eff"
   ]
  },
  {
   "cell_type": "code",
   "execution_count": null,
   "id": "415ab9d0",
   "metadata": {
    "pycharm": {
     "is_executing": true
    }
   },
   "outputs": [],
   "source": [
    "ga.discharging_eff"
   ]
  },
  {
   "cell_type": "code",
   "execution_count": null,
   "id": "1b074665",
   "metadata": {
    "pycharm": {
     "is_executing": true
    }
   },
   "outputs": [],
   "source": [
    "ga.soc_init"
   ]
  },
  {
   "cell_type": "code",
   "execution_count": null,
   "id": "e8f4bde6",
   "metadata": {
    "pycharm": {
     "is_executing": true
    }
   },
   "outputs": [],
   "source": [
    "ga.soc_min"
   ]
  },
  {
   "cell_type": "code",
   "execution_count": null,
   "id": "1c947332",
   "metadata": {
    "pycharm": {
     "is_executing": true
    }
   },
   "outputs": [],
   "source": [
    "ga.timeseries"
   ]
  },
  {
   "cell_type": "markdown",
   "id": "949bd20a",
   "metadata": {},
   "source": [
    "-------------------------\n",
    "c) Visualization\n",
    "\n",
    "-------------------------"
   ]
  },
  {
   "cell_type": "code",
   "execution_count": null,
   "id": "b1ef590d",
   "metadata": {
    "pycharm": {
     "is_executing": true
    }
   },
   "outputs": [],
   "source": [
    "fig_availability = PLT.sgplot_ga(ga.name, rng=None, to_html=False, path=None)"
   ]
  },
  {
   "cell_type": "code",
   "execution_count": null,
   "id": "9fdb778d",
   "metadata": {
    "pycharm": {
     "is_executing": true
    }
   },
   "outputs": [],
   "source": [
    "fig_availability"
   ]
  },
  {
   "cell_type": "markdown",
   "id": "65bf08f2",
   "metadata": {},
   "source": [
    "----------------------------------------------------------\n",
    "## Step 4: Grid electricity demand time series\n",
    "----------------------------------------------------------\n",
    "a) Selection of charging strategies\n",
    "\n",
    "---------------------------------------"
   ]
  },
  {
   "cell_type": "code",
   "execution_count": null,
   "id": "15b1d0a5",
   "metadata": {
    "pycharm": {
     "is_executing": true
    }
   },
   "outputs": [],
   "source": [
    "from emobpy import Charging"
   ]
  },
  {
   "cell_type": "code",
   "execution_count": null,
   "id": "d515c6d7",
   "metadata": {
    "pycharm": {
     "is_executing": true
    }
   },
   "outputs": [],
   "source": [
    "DB.update()\n",
    "\n",
    "aname = ga.name                            # getting the id of the availability profile\n",
    "\n",
    "strategies = [\n",
    "              \"immediate\",                 # When battery has SOC < 100% then it charges immediatelly at a maximun power rating of the current charging station\n",
    "              \"balanced\",                  # When battery has SOC < 100% then it charges immediatelly but at lower rating power to ensure 100% SOC at the end (before moving to another place).\n",
    "              \"from_0_to_24_at_home\",      # Customized: starting time of charging (this case 0 hrs), final time of charging (this case 24 hrs), at could be one 'location' (this case 'home') or 'any'.\n",
    "              \"from_23_to_8_at_any\"\n",
    "             ]"
   ]
  },
  {
   "cell_type": "markdown",
   "id": "6a06262d",
   "metadata": {},
   "source": [
    "------------------------------------------------------\n",
    "b) generation of 4 grid electricity demand time series\n",
    "\n",
    "------------------------------------------------------"
   ]
  },
  {
   "cell_type": "code",
   "execution_count": null,
   "id": "8f2e4cc9",
   "metadata": {
    "pycharm": {
     "is_executing": true
    }
   },
   "outputs": [],
   "source": [
    "for option in strategies:\n",
    "    ged = Charging(aname)\n",
    "    ged.load_scenario(DB)\n",
    "    ged.set_sub_scenario(option)\n",
    "    ged.run()\n",
    "    print(f'Creation Successful:{ged.success}')   # if False, modify the strategy to a less constrained.\n",
    "    ged.save_profile('db')"
   ]
  },
  {
   "cell_type": "markdown",
   "id": "d9a48605",
   "metadata": {},
   "source": [
    "-----------------------------------------------------------------------------\n",
    "c) See some atributes for the last created time series as an example\n",
    "\n",
    "-----------------------------------------------------------------------------"
   ]
  },
  {
   "cell_type": "code",
   "execution_count": null,
   "id": "36f44d59",
   "metadata": {
    "pycharm": {
     "is_executing": true
    }
   },
   "outputs": [],
   "source": [
    "ged.name"
   ]
  },
  {
   "cell_type": "code",
   "execution_count": null,
   "id": "b5b1ffa2",
   "metadata": {
    "pycharm": {
     "is_executing": true
    }
   },
   "outputs": [],
   "source": [
    "ged.input"
   ]
  },
  {
   "cell_type": "code",
   "execution_count": null,
   "id": "40ed3acd",
   "metadata": {
    "pycharm": {
     "is_executing": true
    }
   },
   "outputs": [],
   "source": [
    "ged.kind"
   ]
  },
  {
   "cell_type": "code",
   "execution_count": null,
   "id": "4b21ec61",
   "metadata": {
    "pycharm": {
     "is_executing": true
    }
   },
   "outputs": [],
   "source": [
    "ged.option"
   ]
  },
  {
   "cell_type": "code",
   "execution_count": null,
   "id": "76c47d39",
   "metadata": {
    "pycharm": {
     "is_executing": true
    }
   },
   "outputs": [],
   "source": [
    "ged.timeseries"
   ]
  },
  {
   "cell_type": "code",
   "execution_count": null,
   "id": "be3f17c6",
   "metadata": {
    "pycharm": {
     "is_executing": true
    }
   },
   "outputs": [],
   "source": [
    "ged.profile"
   ]
  },
  {
   "cell_type": "markdown",
   "id": "19ed5db1",
   "metadata": {},
   "source": [
    "-------------------------\n",
    "d) Visualization\n",
    "\n",
    "-------------------------"
   ]
  },
  {
   "cell_type": "code",
   "execution_count": null,
   "id": "2c6e6a12",
   "metadata": {
    "pycharm": {
     "is_executing": true
    }
   },
   "outputs": [],
   "source": [
    "fig_ged = PLT.sgplot_ged(ged.name, rng=None, to_html=False, path=None) # this looks for all strategies of a single grid availability time series, even though we provide one grid demand id"
   ]
  },
  {
   "cell_type": "code",
   "execution_count": null,
   "id": "8e364858",
   "metadata": {
    "pycharm": {
     "is_executing": true
    }
   },
   "outputs": [],
   "source": [
    "fig_ged"
   ]
  },
  {
   "cell_type": "markdown",
   "id": "78d986c0",
   "metadata": {},
   "source": [
    "------------------------------------------------------\n",
    "### Visualize all time series of a vehicle profile\n",
    "------------------------------------------------------"
   ]
  },
  {
   "cell_type": "code",
   "execution_count": null,
   "id": "8829c0b7",
   "metadata": {
    "pycharm": {
     "is_executing": true
    }
   },
   "outputs": [],
   "source": [
    "fig_channel = PLT.overview(ged.name)"
   ]
  },
  {
   "cell_type": "code",
   "execution_count": null,
   "id": "da24c54d",
   "metadata": {
    "pycharm": {
     "is_executing": true
    }
   },
   "outputs": [],
   "source": [
    "fig_channel"
   ]
  },
  {
   "cell_type": "markdown",
   "id": "66f4dab9",
   "metadata": {},
   "source": [
    "------------------------------------------------------------\n",
    "### Export all time-series in 'db' folder to [DIETER](https://diw-evu.gitlab.io/dieter_public/dieterpy/) format\n",
    "-----------------------------------------------------------------------------------------------------------\n",
    "After exporting see the two CSV files at \"db\" folder\n",
    "\n",
    "--------------------------------------------------------------------"
   ]
  },
  {
   "cell_type": "code",
   "execution_count": null,
   "id": "8a3196c1",
   "metadata": {
    "pycharm": {
     "is_executing": true
    }
   },
   "outputs": [],
   "source": [
    "from emobpy import Export"
   ]
  },
  {
   "cell_type": "code",
   "execution_count": null,
   "id": "37eda4d3",
   "metadata": {
    "pycharm": {
     "is_executing": true
    }
   },
   "outputs": [],
   "source": [
    "DB.update()\n",
    "Exp = Export()\n",
    "Exp.loaddata(DB)\n",
    "Exp.to_csv()\n",
    "Exp.save_files()"
   ]
  },
  {
   "cell_type": "markdown",
   "id": "c2cf0a6a",
   "metadata": {},
   "source": [
    "-------------------------------------------------------------------------------\n",
    "### Download weather data from [Zenodo](https://zenodo.org/record/1489915)\n",
    "-------------------------------------------------------------------------------\n",
    "Total size: 300 MB\n",
    "\n",
    "This function allows us to select different countries and years when creating new driving consumption time-series.\n",
    "\n",
    "After finishing the download, you will get the location of the files on your PC. If you want to add more countries, you can edit the CSV files there.\n",
    "\n",
    "emobpy includes Germany's weather data only for 2016. This data set has several European countries and years from 2000-2017.\n",
    "\n",
    "-------------------------------------------------------------------------------"
   ]
  },
  {
   "cell_type": "code",
   "execution_count": null,
   "id": "b2cf1edd",
   "metadata": {
    "pycharm": {
     "is_executing": true
    }
   },
   "outputs": [],
   "source": [
    "# from emobpy import Weather"
   ]
  },
  {
   "cell_type": "code",
   "execution_count": null,
   "id": "a3c4dac1",
   "metadata": {
    "pycharm": {
     "is_executing": true
    }
   },
   "outputs": [],
   "source": [
    "# WD = Weather()"
   ]
  },
  {
   "cell_type": "code",
   "execution_count": null,
   "id": "265d4a75",
   "metadata": {
    "pycharm": {
     "is_executing": true
    }
   },
   "outputs": [],
   "source": [
    "# WD.download_weather_data()"
   ]
  },
  {
   "cell_type": "code",
   "execution_count": null,
   "id": "a49e6a07",
   "metadata": {
    "pycharm": {
     "is_executing": true
    }
   },
   "outputs": [],
   "source": []
  }
 ],
 "metadata": {
  "kernelspec": {
   "display_name": "Python 3 (ipykernel)",
   "language": "python",
   "name": "python3"
  },
  "language_info": {
   "codemirror_mode": {
    "name": "ipython",
    "version": 3
   },
   "file_extension": ".py",
   "mimetype": "text/x-python",
   "name": "python",
   "nbconvert_exporter": "python",
   "pygments_lexer": "ipython3",
   "version": "3.9.7"
  }
 },
 "nbformat": 4,
 "nbformat_minor": 5
}
