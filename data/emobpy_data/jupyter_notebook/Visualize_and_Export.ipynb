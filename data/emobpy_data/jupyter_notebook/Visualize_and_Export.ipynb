{
 "cells": [
  {
   "cell_type": "code",
   "execution_count": null,
   "id": "moderate-measurement",
   "metadata": {},
   "outputs": [],
   "source": [
    "from emobpy import DataBase, Export\n",
    "from emobpy.plot import NBplot"
   ]
  },
  {
   "cell_type": "code",
   "execution_count": null,
   "id": "subject-sussex",
   "metadata": {},
   "outputs": [],
   "source": [
    "DBm = DataBase('db')\n",
    "DBm.loadfiles_batch(kind=\"driving\") # load files in parallel that only contains Mobility time-series"
   ]
  },
  {
   "cell_type": "code",
   "execution_count": null,
   "id": "level-lightning",
   "metadata": {},
   "outputs": [],
   "source": [
    "mname = list(DBm.db.keys())[0]\n",
    "mname"
   ]
  },
  {
   "cell_type": "code",
   "execution_count": null,
   "id": "level-friday",
   "metadata": {},
   "outputs": [],
   "source": [
    "vizm = NBplot(DBm)"
   ]
  },
  {
   "cell_type": "code",
   "execution_count": null,
   "id": "discrete-tower",
   "metadata": {},
   "outputs": [],
   "source": [
    "figm = vizm.sgplot_dp(mname)"
   ]
  },
  {
   "cell_type": "code",
   "execution_count": null,
   "id": "9163fb06",
   "metadata": {},
   "outputs": [],
   "source": [
    "figm.show()"
   ]
  },
  {
   "cell_type": "code",
   "execution_count": null,
   "id": "scientific-liverpool",
   "metadata": {},
   "outputs": [],
   "source": [
    "DBc = DataBase('db')\n",
    "DBc.loadfiles_batch(kind=\"consumption\", add_variables=['Trips'])"
   ]
  },
  {
   "cell_type": "code",
   "execution_count": null,
   "id": "empty-elite",
   "metadata": {},
   "outputs": [],
   "source": [
    "cname = list(DBc.db.keys())[0]\n",
    "cname"
   ]
  },
  {
   "cell_type": "code",
   "execution_count": null,
   "id": "sound-office",
   "metadata": {},
   "outputs": [],
   "source": [
    "vizc = NBplot(DBc)"
   ]
  },
  {
   "cell_type": "code",
   "execution_count": null,
   "id": "neural-haiti",
   "metadata": {},
   "outputs": [],
   "source": [
    "figc = vizc.sankey(cname, include=None, to_html=False, path='sankey.html')"
   ]
  },
  {
   "cell_type": "code",
   "execution_count": null,
   "id": "beneficial-today",
   "metadata": {},
   "outputs": [],
   "source": [
    "figc.show()"
   ]
  },
  {
   "cell_type": "code",
   "execution_count": null,
   "id": "encouraging-literature",
   "metadata": {},
   "outputs": [],
   "source": [
    "DBa = DataBase('db')\n",
    "DBa.loadfiles_batch(kind=\"availability\")"
   ]
  },
  {
   "cell_type": "code",
   "execution_count": null,
   "id": "suited-windows",
   "metadata": {},
   "outputs": [],
   "source": [
    "aname = list(DBa.db.keys())[0]\n",
    "aname"
   ]
  },
  {
   "cell_type": "code",
   "execution_count": null,
   "id": "preliminary-consent",
   "metadata": {},
   "outputs": [],
   "source": [
    "viza = NBplot(DBa)"
   ]
  },
  {
   "cell_type": "code",
   "execution_count": null,
   "id": "spare-syntax",
   "metadata": {},
   "outputs": [],
   "source": [
    "figg = viza.sgplot_ga(aname, rng=None, to_html=False, path=None)"
   ]
  },
  {
   "cell_type": "code",
   "execution_count": null,
   "id": "f4d4fe33",
   "metadata": {},
   "outputs": [],
   "source": [
    "figg.show()"
   ]
  },
  {
   "cell_type": "code",
   "execution_count": null,
   "id": "statistical-newcastle",
   "metadata": {},
   "outputs": [],
   "source": [
    "DBd = DataBase('db')\n",
    "DBd.loadfiles_batch(kind=\"charging\")"
   ]
  },
  {
   "cell_type": "code",
   "execution_count": null,
   "id": "representative-current",
   "metadata": {},
   "outputs": [],
   "source": [
    "dname = list(DBd.db.keys())[0]\n",
    "dname"
   ]
  },
  {
   "cell_type": "code",
   "execution_count": null,
   "id": "smoking-lambda",
   "metadata": {},
   "outputs": [],
   "source": [
    "vizd = NBplot(DBd)"
   ]
  },
  {
   "cell_type": "code",
   "execution_count": null,
   "id": "rapid-advice",
   "metadata": {},
   "outputs": [],
   "source": [
    "figd = vizd.sgplot_ged(dname, rng=None, to_html=False, path=None)"
   ]
  },
  {
   "cell_type": "code",
   "execution_count": null,
   "id": "a9a4efd0",
   "metadata": {},
   "outputs": [],
   "source": [
    "figd.show()"
   ]
  },
  {
   "cell_type": "code",
   "execution_count": null,
   "id": "protecting-reliance",
   "metadata": {},
   "outputs": [],
   "source": [
    "DB = DataBase('db')\n",
    "DB.update()\n",
    "Exp = Export()\n",
    "Exp.loaddata(DB)\n",
    "Exp.to_csv()\n",
    "Exp.save_files()\n",
    "# See the two CSV files at \"db\" folder"
   ]
  },
  {
   "cell_type": "markdown",
   "id": "weekly-nelson",
   "metadata": {},
   "source": [
    "### Playing with data frames: profiles and time series"
   ]
  },
  {
   "cell_type": "code",
   "execution_count": null,
   "id": "republican-surveillance",
   "metadata": {},
   "outputs": [],
   "source": [
    "list(DB.db.keys())"
   ]
  },
  {
   "cell_type": "code",
   "execution_count": null,
   "id": "detected-alabama",
   "metadata": {},
   "outputs": [],
   "source": [
    "TS_id = list(DB.db.keys())[0] # you can choose any\n",
    "TS_id"
   ]
  },
  {
   "cell_type": "code",
   "execution_count": null,
   "id": "excellent-affect",
   "metadata": {},
   "outputs": [],
   "source": [
    "df = DB.db[TS_id]['timeseries']"
   ]
  },
  {
   "cell_type": "code",
   "execution_count": null,
   "id": "broke-reconstruction",
   "metadata": {},
   "outputs": [],
   "source": [
    "df"
   ]
  },
  {
   "cell_type": "code",
   "execution_count": null,
   "id": "rough-bidder",
   "metadata": {},
   "outputs": [],
   "source": [
    "df[['distance']].iplot()"
   ]
  },
  {
   "cell_type": "code",
   "execution_count": null,
   "id": "organic-argument",
   "metadata": {},
   "outputs": [],
   "source": [
    "pf = DB.db[TS_id]['profile']"
   ]
  },
  {
   "cell_type": "code",
   "execution_count": null,
   "id": "polyphonic-parade",
   "metadata": {},
   "outputs": [],
   "source": [
    "pf   # distance km and duration min"
   ]
  },
  {
   "cell_type": "code",
   "execution_count": null,
   "id": "juvenile-israeli",
   "metadata": {},
   "outputs": [],
   "source": [
    "for name in DB.db:\n",
    "    kind = DB.db[name]['kind']\n",
    "    if kind != 'driving':\n",
    "        input_ = DB.db[name]['input']  # upstream profile, e.g. charging <- availability <- consumption <- driving\n",
    "        print(kind, name, '<-', input_)\n",
    "    else:\n",
    "        print(kind, name)"
   ]
  },
  {
   "cell_type": "code",
   "execution_count": null,
   "id": "eaa44d50",
   "metadata": {},
   "outputs": [],
   "source": []
  }
 ],
 "metadata": {
  "kernelspec": {
   "display_name": "Python 3 (ipykernel)",
   "language": "python",
   "name": "python3"
  },
  "language_info": {
   "codemirror_mode": {
    "name": "ipython",
    "version": 3
   },
   "file_extension": ".py",
   "mimetype": "text/x-python",
   "name": "python",
   "nbconvert_exporter": "python",
   "pygments_lexer": "ipython3",
   "version": "3.9.7"
  }
 },
 "nbformat": 4,
 "nbformat_minor": 5
}
